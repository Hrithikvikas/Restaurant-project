{
  "nbformat": 4,
  "nbformat_minor": 0,
  "metadata": {
    "colab": {
      "name": "Untitled1.ipynb",
      "provenance": [],
      "authorship_tag": "ABX9TyMQx9m4S7l5SbNkHY7DPld/",
      "include_colab_link": true
    },
    "kernelspec": {
      "name": "python3",
      "display_name": "Python 3"
    },
    "language_info": {
      "name": "python"
    }
  },
  "cells": [
    {
      "cell_type": "markdown",
      "metadata": {
        "id": "view-in-github",
        "colab_type": "text"
      },
      "source": [
        "<a href=\"https://colab.research.google.com/github/Hrithikvikas/Restaurant-project/blob/master/Test.ipynb\" target=\"_parent\"><img src=\"https://colab.research.google.com/assets/colab-badge.svg\" alt=\"Open In Colab\"/></a>"
      ]
    },
    {
      "cell_type": "code",
      "metadata": {
        "colab": {
          "base_uri": "https://localhost:8080/",
          "height": 82
        },
        "id": "N39NLWOO5wq1",
        "outputId": "e3716086-e39e-4017-8b1c-9fb622697527"
      },
      "source": [
        "from IPython.display import HTML, display\n",
        "\n",
        "data = [[1,2,3],\n",
        "        [4,5,6],\n",
        "        [7,8,9],\n",
        "        ]\n",
        "\n",
        "display(HTML(\n",
        "   '<table><tr>{}</tr></table>'.format(\n",
        "       '</tr><tr>'.join(\n",
        "           '<td>{}</td>'.format('</td><td>'.join(str(_) for _ in row)) for row in data)\n",
        "       )\n",
        "))"
      ],
      "execution_count": 1,
      "outputs": [
        {
          "output_type": "display_data",
          "data": {
            "text/html": [
              "<table><tr><td>1</td><td>2</td><td>3</td></tr><tr><td>4</td><td>5</td><td>6</td></tr><tr><td>7</td><td>8</td><td>9</td></tr></table>"
            ],
            "text/plain": [
              "<IPython.core.display.HTML object>"
            ]
          },
          "metadata": {
            "tags": []
          }
        }
      ]
    }
  ]
}